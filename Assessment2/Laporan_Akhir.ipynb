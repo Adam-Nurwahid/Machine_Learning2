{
  "cells": [
    {
      "cell_type": "markdown",
      "metadata": {
        "id": "mhVXqrWNsZVe"
      },
      "source": [
        "# Laporan Hasil Klasifikasi Bunga Iris"
      ]
    },
    {
      "cell_type": "markdown",
      "metadata": {
        "id": "2rjKaKv5tXwL"
      },
      "source": [
        "## Dataset  \n",
        "**Nama Dataset:** Iris Flower Dataset  \n",
        "**Jumlah Sampel:** 150 data  \n",
        "\n",
        "### Fitur:\n",
        "- `sepal_length`  \n",
        "- `sepal_width`  \n",
        "- `petal_length`  \n",
        "- `petal_width`  \n",
        "\n",
        "### Label:\n",
        "- Setosa  \n",
        "- Versicolor  \n",
        "- Virginica"
      ]
    },
    {
      "cell_type": "markdown",
      "metadata": {
        "id": "gTnU2_aQtcBS"
      },
      "source": [
        "---\n",
        "\n",
        "## 1. Model Neural Network (PyTorch)"
      ]
    },
    {
      "cell_type": "markdown",
      "metadata": {
        "id": "Ot89bMJwteLh"
      },
      "source": [
        "### Arsitektur Model:\n",
        "- **Layer 1:** Fully Connected Layer  \n",
        "  - Input: 4 fitur  \n",
        "  - Output: 16 neuron  \n",
        "  - Aktivasi: ReLU  \n",
        "- **Layer 2:** Fully Connected Layer  \n",
        "  - Input: 16 neuron  \n",
        "  - Output: 3 neuron (jumlah kelas)"
      ]
    },
    {
      "cell_type": "markdown",
      "metadata": {
        "id": "1tD_7Z-ltf8j"
      },
      "source": [
        "### Parameter Pelatihan:\n",
        "- **Loss Function:** CrossEntropyLoss  \n",
        "- **Optimizer:** Adam  \n",
        "- **Epochs:** 50  \n",
        "- **Batch Size:** 16  \n",
        "- **Data Split:**  \n",
        "  - Data latih: 120  \n",
        "  - Data uji: 30\n",
        "  "
      ]
    },
    {
      "cell_type": "markdown",
      "metadata": {
        "id": "GiXeGGWjtjKG"
      },
      "source": [
        "---\n",
        "\n",
        "## Hasil Pelatihan\n",
        "\n",
        "Model berhasil dilatih secara optimal dengan hasil evaluasi sebagai berikut:\n",
        "\n",
        "```text\n",
        "Akurasi pada data uji: 96.67%\n",
        "```\n",
        "\n",
        "*(Tambahkan bagian ini sesuai hasil evaluasi modelmu, seperti confusion matrix atau grafik)*"
      ]
    }
  ],
  "metadata": {
    "colab": {
      "provenance": []
    },
    "kernelspec": {
      "display_name": "Python 3",
      "name": "python3"
    },
    "language_info": {
      "name": "python"
    }
  },
  "nbformat": 4,
  "nbformat_minor": 0
}
